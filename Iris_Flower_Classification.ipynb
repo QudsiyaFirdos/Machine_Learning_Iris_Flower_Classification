{
 "cells": [
  {
   "cell_type": "markdown",
   "id": "1215c6fd-3acd-458f-9293-7c0a75da0177",
   "metadata": {},
   "source": [
    "# Iris Flower Classification"
   ]
  },
  {
   "cell_type": "markdown",
   "id": "15975d4a-8786-4355-8138-bc051f7567c2",
   "metadata": {},
   "source": [
    "# Using K Nearest Neighbor Classification"
   ]
  },
  {
   "cell_type": "markdown",
   "id": "3586583c-512f-4563-99cc-5145b087a38f",
   "metadata": {},
   "source": [
    "Import Libraries"
   ]
  },
  {
   "cell_type": "code",
   "execution_count": 29,
   "id": "111576e7-9934-4c5f-a666-ff77a8acfdf6",
   "metadata": {},
   "outputs": [],
   "source": [
    "import numpy as np\n",
    "import pandas as pd"
   ]
  },
  {
   "cell_type": "markdown",
   "id": "87c02272-c8ff-4b00-97b2-004fefa55b3d",
   "metadata": {},
   "source": [
    "Load the dataset"
   ]
  },
  {
   "cell_type": "markdown",
   "id": "7d89421e-2e21-4a0c-8373-872945ef75c8",
   "metadata": {},
   "source": [
    "Adjust the path to your CSV file"
   ]
  },
  {
   "cell_type": "code",
   "execution_count": 30,
   "id": "2274a1b6-987f-4ebb-8404-cdd7342877dd",
   "metadata": {},
   "outputs": [],
   "source": [
    "path=r\"C:\\Users\\QFAROOQU\\Downloads\\iris.csv\"\n",
    "df=pd.read_csv(path)"
   ]
  },
  {
   "cell_type": "code",
   "execution_count": 31,
   "id": "ec55ad33-c102-4a6c-9967-e1e66d9d7f57",
   "metadata": {},
   "outputs": [
    {
     "data": {
      "text/html": [
       "<div>\n",
       "<style scoped>\n",
       "    .dataframe tbody tr th:only-of-type {\n",
       "        vertical-align: middle;\n",
       "    }\n",
       "\n",
       "    .dataframe tbody tr th {\n",
       "        vertical-align: top;\n",
       "    }\n",
       "\n",
       "    .dataframe thead th {\n",
       "        text-align: right;\n",
       "    }\n",
       "</style>\n",
       "<table border=\"1\" class=\"dataframe\">\n",
       "  <thead>\n",
       "    <tr style=\"text-align: right;\">\n",
       "      <th></th>\n",
       "      <th>sepal_length</th>\n",
       "      <th>sepal_width</th>\n",
       "      <th>petal_length</th>\n",
       "      <th>petal_width</th>\n",
       "      <th>species</th>\n",
       "    </tr>\n",
       "  </thead>\n",
       "  <tbody>\n",
       "    <tr>\n",
       "      <th>0</th>\n",
       "      <td>5.1</td>\n",
       "      <td>3.5</td>\n",
       "      <td>1.4</td>\n",
       "      <td>0.2</td>\n",
       "      <td>setosa</td>\n",
       "    </tr>\n",
       "    <tr>\n",
       "      <th>1</th>\n",
       "      <td>4.9</td>\n",
       "      <td>3.0</td>\n",
       "      <td>1.4</td>\n",
       "      <td>0.2</td>\n",
       "      <td>setosa</td>\n",
       "    </tr>\n",
       "    <tr>\n",
       "      <th>2</th>\n",
       "      <td>4.7</td>\n",
       "      <td>3.2</td>\n",
       "      <td>1.3</td>\n",
       "      <td>0.2</td>\n",
       "      <td>setosa</td>\n",
       "    </tr>\n",
       "    <tr>\n",
       "      <th>3</th>\n",
       "      <td>4.6</td>\n",
       "      <td>3.1</td>\n",
       "      <td>1.5</td>\n",
       "      <td>0.2</td>\n",
       "      <td>setosa</td>\n",
       "    </tr>\n",
       "    <tr>\n",
       "      <th>4</th>\n",
       "      <td>5.0</td>\n",
       "      <td>3.6</td>\n",
       "      <td>1.4</td>\n",
       "      <td>0.2</td>\n",
       "      <td>setosa</td>\n",
       "    </tr>\n",
       "  </tbody>\n",
       "</table>\n",
       "</div>"
      ],
      "text/plain": [
       "   sepal_length  sepal_width  petal_length  petal_width species\n",
       "0           5.1          3.5           1.4          0.2  setosa\n",
       "1           4.9          3.0           1.4          0.2  setosa\n",
       "2           4.7          3.2           1.3          0.2  setosa\n",
       "3           4.6          3.1           1.5          0.2  setosa\n",
       "4           5.0          3.6           1.4          0.2  setosa"
      ]
     },
     "execution_count": 31,
     "metadata": {},
     "output_type": "execute_result"
    }
   ],
   "source": [
    "df.head()"
   ]
  },
  {
   "cell_type": "markdown",
   "id": "f330f723-a931-443f-a323-4153b420a18b",
   "metadata": {},
   "source": [
    "Define features and target"
   ]
  },
  {
   "cell_type": "code",
   "execution_count": 32,
   "id": "f90ede0b-3c38-4641-a329-8094bf36e1ec",
   "metadata": {},
   "outputs": [],
   "source": [
    "X=df.drop('species',axis=1)\n",
    "y=df['species']"
   ]
  },
  {
   "cell_type": "code",
   "execution_count": 33,
   "id": "82fe75bf-f2f2-4478-a33c-7f702f9f9b8b",
   "metadata": {},
   "outputs": [],
   "source": [
    "from sklearn.model_selection import train_test_split"
   ]
  },
  {
   "cell_type": "markdown",
   "id": "9683b217-baa0-495d-aaa6-0f4a2999f9c3",
   "metadata": {},
   "source": [
    "Split the data"
   ]
  },
  {
   "cell_type": "code",
   "execution_count": 34,
   "id": "d7b146fa-36eb-45dd-9296-89c076a70a76",
   "metadata": {},
   "outputs": [],
   "source": [
    "X_train,X_test,y_train,y_test=train_test_split(X,y,test_size=0.2,random_state=2020)"
   ]
  },
  {
   "cell_type": "code",
   "execution_count": 35,
   "id": "a02fcbc4-926b-41d0-b909-10efcff43e63",
   "metadata": {},
   "outputs": [
    {
     "name": "stdout",
     "output_type": "stream",
     "text": [
      "Shape of X_train= (120, 4)\n",
      "Shape of y_train= (120,)\n",
      "Shape of X_test= (30, 4)\n",
      "Shape of y_test= (30,)\n"
     ]
    }
   ],
   "source": [
    "print(\"Shape of X_train=\",X_train.shape)\n",
    "print(\"Shape of y_train=\",y_train.shape)\n",
    "print(\"Shape of X_test=\",X_test.shape)\n",
    "print(\"Shape of y_test=\",y_test.shape)"
   ]
  },
  {
   "cell_type": "code",
   "execution_count": 36,
   "id": "efad2fb4-7ca2-4ef5-a906-b6bb880d54e3",
   "metadata": {},
   "outputs": [],
   "source": [
    "from sklearn.neighbors import KNeighborsClassifier"
   ]
  },
  {
   "cell_type": "markdown",
   "id": "e2958b96-9358-49b3-b6bc-568ea2e2e69f",
   "metadata": {},
   "source": [
    "Initialize and train the K Nearest Neighbor Classification  model"
   ]
  },
  {
   "cell_type": "code",
   "execution_count": 37,
   "id": "a6f6c0c3-367d-4ebc-8789-3163c2e8bbd2",
   "metadata": {},
   "outputs": [],
   "source": [
    "classifier=KNeighborsClassifier(n_neighbors=5)"
   ]
  },
  {
   "cell_type": "code",
   "execution_count": 38,
   "id": "25c80cf8-c31d-4db9-aa5a-89d819bf60a1",
   "metadata": {},
   "outputs": [
    {
     "data": {
      "text/plain": [
       "0.9"
      ]
     },
     "execution_count": 38,
     "metadata": {},
     "output_type": "execute_result"
    }
   ],
   "source": [
    "classifier.fit(X_train,y_train)\n",
    "classifier.score(X_test,y_test)"
   ]
  },
  {
   "cell_type": "markdown",
   "id": "f4607598-5958-4468-9530-4da59342d7a5",
   "metadata": {},
   "source": [
    "Classify the flower"
   ]
  },
  {
   "cell_type": "code",
   "execution_count": 39,
   "id": "37120011-fd5b-4858-9824-639d2153a8eb",
   "metadata": {},
   "outputs": [],
   "source": [
    "flower1={'sepal_length':[5.1],'sepal_width':[3.5],'petal_length':[1.4],'petal_width':[0.2]}"
   ]
  },
  {
   "cell_type": "code",
   "execution_count": 40,
   "id": "169793c5-b977-475b-9a41-9d0ec4b8d37d",
   "metadata": {},
   "outputs": [],
   "source": [
    "f1 = pd.DataFrame(flower1, columns=X.columns)"
   ]
  },
  {
   "cell_type": "code",
   "execution_count": 41,
   "id": "58c036cf-5646-4d40-9fc6-6d5a6ec85d66",
   "metadata": {},
   "outputs": [],
   "source": [
    "pred=classifier.predict(f1)"
   ]
  },
  {
   "cell_type": "code",
   "execution_count": 42,
   "id": "937fc7e5-6c21-42ce-8728-c7f9d39f7944",
   "metadata": {},
   "outputs": [
    {
     "name": "stdout",
     "output_type": "stream",
     "text": [
      "S\n"
     ]
    }
   ],
   "source": [
    "if(pred[0] == 'setosa'):\n",
    "  print('S')\n",
    "elif(pred[0]=='versicolor'):\n",
    "    print('Vr')\n",
    "else:\n",
    "    print('Vg')"
   ]
  }
 ],
 "metadata": {
  "kernelspec": {
   "display_name": "Python 3 (ipykernel)",
   "language": "python",
   "name": "python3"
  },
  "language_info": {
   "codemirror_mode": {
    "name": "ipython",
    "version": 3
   },
   "file_extension": ".py",
   "mimetype": "text/x-python",
   "name": "python",
   "nbconvert_exporter": "python",
   "pygments_lexer": "ipython3",
   "version": "3.12.2"
  }
 },
 "nbformat": 4,
 "nbformat_minor": 5
}
